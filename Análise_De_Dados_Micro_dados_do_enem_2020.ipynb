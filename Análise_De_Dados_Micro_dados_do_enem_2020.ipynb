{
  "nbformat": 4,
  "nbformat_minor": 0,
  "metadata": {
    "colab": {
      "name": "Análise-De-Dados-Micro-dados-do-enem-2020.ipynb",
      "provenance": [],
      "include_colab_link": true
    },
    "kernelspec": {
      "name": "python3",
      "display_name": "Python 3"
    },
    "language_info": {
      "name": "python"
    }
  },
  "cells": [
    {
      "cell_type": "markdown",
      "metadata": {
        "id": "view-in-github",
        "colab_type": "text"
      },
      "source": [
        "<a href=\"https://colab.research.google.com/github/MiguelSilva25/MiguelSilva25/blob/main/An%C3%A1lise_De_Dados_Micro_dados_do_enem_2020.ipynb\" target=\"_parent\"><img src=\"https://colab.research.google.com/assets/colab-badge.svg\" alt=\"Open In Colab\"/></a>"
      ]
    },
    {
      "cell_type": "markdown",
      "source": [
        "# Trabalho de Análise de Dados Públicos\n"
      ],
      "metadata": {
        "id": "9H6imov3MFrO"
      }
    },
    {
      "cell_type": "markdown",
      "source": [
        "### Tema: Análise de dados públicos, micro dados do enem 2020\n",
        "  "
      ],
      "metadata": {
        "id": "XgPtVvMThXB3"
      }
    },
    {
      "cell_type": "markdown",
      "source": [
        "O trabalho deve ser documentado e fixa um comentário onde parou, explicar cada código com texto:"
      ],
      "metadata": {
        "id": "P7zjIWTx1GEv"
      }
    },
    {
      "cell_type": "markdown",
      "source": [
        "### Import libraries pandas, matplotlib and numpy."
      ],
      "metadata": {
        "id": "JAzEz7AnNBtH"
      }
    },
    {
      "cell_type": "code",
      "execution_count": null,
      "metadata": {
        "id": "_eXF4DrzL-9Z"
      },
      "outputs": [],
      "source": [
        "import pandas as pd\n",
        "import matplotlib.pyplot as plt\n",
        "import numpy as np"
      ]
    },
    {
      "cell_type": "markdown",
      "source": [
        "### Mostra os dados numa tabela usando o pandas!!\n"
      ],
      "metadata": {
        "id": "he348kmQKKKN"
      }
    },
    {
      "cell_type": "code",
      "source": [
        "from google.colab import drive\n",
        "drive.mount('/content/drive')"
      ],
      "metadata": {
        "id": "C2SgR45ZmBWP",
        "colab": {
          "base_uri": "https://localhost:8080/"
        },
        "outputId": "10a37f64-060e-4f54-9b44-49162bb4e3b9"
      },
      "execution_count": null,
      "outputs": [
        {
          "output_type": "stream",
          "name": "stdout",
          "text": [
            "Mounted at /content/drive\n"
          ]
        }
      ]
    },
    {
      "cell_type": "markdown",
      "source": [
        "*intes da provas de 2020 caderno por cores*"
      ],
      "metadata": {
        "id": "bPVHcl6GYSfO"
      }
    },
    {
      "cell_type": "code",
      "source": [
        "microdados = pd.read_csv(\"/content/drive/MyDrive/Colab Notebooks/microdados_enem_2020/DADOS/ITENS_PROVA_2020.csv\")\n"
      ],
      "metadata": {
        "id": "CbpAZIZ3OmQ4"
      },
      "execution_count": null,
      "outputs": []
    },
    {
      "cell_type": "markdown",
      "source": [
        "Classificação por cores de cardeno de provas"
      ],
      "metadata": {
        "id": "vC_BiXifvX9S"
      }
    },
    {
      "cell_type": "code",
      "source": [
        "microdados.head()"
      ],
      "metadata": {
        "id": "J0dWiy3G0SOR",
        "colab": {
          "base_uri": "https://localhost:8080/",
          "height": 230
        },
        "outputId": "d9e55763-0b20-4408-c54b-10a16ac5f0c5"
      },
      "execution_count": null,
      "outputs": [
        {
          "output_type": "execute_result",
          "data": {
            "text/plain": [
              "  CO_POSICAO;SG_AREA;CO_ITEM;TX_GABARITO;CO_HABILIDADE;IN_ITEM_ABAN;TX_MOTIVO_ABAN;NU_PARAM_A;NU_PARAM_B;NU_PARAM_C;TX_COR;CO_PROVA;TP_LINGUA;IN_ITEM_ADAPTADO;TP_VERSAO_DIGITAL\n",
              "0  26;LC;7099;D;15;0;;1.33337;-0.37357;0.00658;LA...                                                                                                                            \n",
              "1  43;LC;7099;D;15;0;;1.33337;-0.37357;0.00658;BR...                                                                                                                            \n",
              "2  26;LC;7099;D;15;0;;1.33337;-0.37357;0.00658;LA...                                                                                                                            \n",
              "3  26;LC;7099;D;15;0;;1.33337;-0.37357;0.00658;RO...                                                                                                                            \n",
              "4  41;LC;7099;D;15;0;;1.33337;-0.37357;0.00658;AZ...                                                                                                                            "
            ],
            "text/html": [
              "\n",
              "  <div id=\"df-0cb9fbe0-638c-4f80-a1b1-143814540b2c\">\n",
              "    <div class=\"colab-df-container\">\n",
              "      <div>\n",
              "<style scoped>\n",
              "    .dataframe tbody tr th:only-of-type {\n",
              "        vertical-align: middle;\n",
              "    }\n",
              "\n",
              "    .dataframe tbody tr th {\n",
              "        vertical-align: top;\n",
              "    }\n",
              "\n",
              "    .dataframe thead th {\n",
              "        text-align: right;\n",
              "    }\n",
              "</style>\n",
              "<table border=\"1\" class=\"dataframe\">\n",
              "  <thead>\n",
              "    <tr style=\"text-align: right;\">\n",
              "      <th></th>\n",
              "      <th>CO_POSICAO;SG_AREA;CO_ITEM;TX_GABARITO;CO_HABILIDADE;IN_ITEM_ABAN;TX_MOTIVO_ABAN;NU_PARAM_A;NU_PARAM_B;NU_PARAM_C;TX_COR;CO_PROVA;TP_LINGUA;IN_ITEM_ADAPTADO;TP_VERSAO_DIGITAL</th>\n",
              "    </tr>\n",
              "  </thead>\n",
              "  <tbody>\n",
              "    <tr>\n",
              "      <th>0</th>\n",
              "      <td>26;LC;7099;D;15;0;;1.33337;-0.37357;0.00658;LA...</td>\n",
              "    </tr>\n",
              "    <tr>\n",
              "      <th>1</th>\n",
              "      <td>43;LC;7099;D;15;0;;1.33337;-0.37357;0.00658;BR...</td>\n",
              "    </tr>\n",
              "    <tr>\n",
              "      <th>2</th>\n",
              "      <td>26;LC;7099;D;15;0;;1.33337;-0.37357;0.00658;LA...</td>\n",
              "    </tr>\n",
              "    <tr>\n",
              "      <th>3</th>\n",
              "      <td>26;LC;7099;D;15;0;;1.33337;-0.37357;0.00658;RO...</td>\n",
              "    </tr>\n",
              "    <tr>\n",
              "      <th>4</th>\n",
              "      <td>41;LC;7099;D;15;0;;1.33337;-0.37357;0.00658;AZ...</td>\n",
              "    </tr>\n",
              "  </tbody>\n",
              "</table>\n",
              "</div>\n",
              "      <button class=\"colab-df-convert\" onclick=\"convertToInteractive('df-0cb9fbe0-638c-4f80-a1b1-143814540b2c')\"\n",
              "              title=\"Convert this dataframe to an interactive table.\"\n",
              "              style=\"display:none;\">\n",
              "        \n",
              "  <svg xmlns=\"http://www.w3.org/2000/svg\" height=\"24px\"viewBox=\"0 0 24 24\"\n",
              "       width=\"24px\">\n",
              "    <path d=\"M0 0h24v24H0V0z\" fill=\"none\"/>\n",
              "    <path d=\"M18.56 5.44l.94 2.06.94-2.06 2.06-.94-2.06-.94-.94-2.06-.94 2.06-2.06.94zm-11 1L8.5 8.5l.94-2.06 2.06-.94-2.06-.94L8.5 2.5l-.94 2.06-2.06.94zm10 10l.94 2.06.94-2.06 2.06-.94-2.06-.94-.94-2.06-.94 2.06-2.06.94z\"/><path d=\"M17.41 7.96l-1.37-1.37c-.4-.4-.92-.59-1.43-.59-.52 0-1.04.2-1.43.59L10.3 9.45l-7.72 7.72c-.78.78-.78 2.05 0 2.83L4 21.41c.39.39.9.59 1.41.59.51 0 1.02-.2 1.41-.59l7.78-7.78 2.81-2.81c.8-.78.8-2.07 0-2.86zM5.41 20L4 18.59l7.72-7.72 1.47 1.35L5.41 20z\"/>\n",
              "  </svg>\n",
              "      </button>\n",
              "      \n",
              "  <style>\n",
              "    .colab-df-container {\n",
              "      display:flex;\n",
              "      flex-wrap:wrap;\n",
              "      gap: 12px;\n",
              "    }\n",
              "\n",
              "    .colab-df-convert {\n",
              "      background-color: #E8F0FE;\n",
              "      border: none;\n",
              "      border-radius: 50%;\n",
              "      cursor: pointer;\n",
              "      display: none;\n",
              "      fill: #1967D2;\n",
              "      height: 32px;\n",
              "      padding: 0 0 0 0;\n",
              "      width: 32px;\n",
              "    }\n",
              "\n",
              "    .colab-df-convert:hover {\n",
              "      background-color: #E2EBFA;\n",
              "      box-shadow: 0px 1px 2px rgba(60, 64, 67, 0.3), 0px 1px 3px 1px rgba(60, 64, 67, 0.15);\n",
              "      fill: #174EA6;\n",
              "    }\n",
              "\n",
              "    [theme=dark] .colab-df-convert {\n",
              "      background-color: #3B4455;\n",
              "      fill: #D2E3FC;\n",
              "    }\n",
              "\n",
              "    [theme=dark] .colab-df-convert:hover {\n",
              "      background-color: #434B5C;\n",
              "      box-shadow: 0px 1px 3px 1px rgba(0, 0, 0, 0.15);\n",
              "      filter: drop-shadow(0px 1px 2px rgba(0, 0, 0, 0.3));\n",
              "      fill: #FFFFFF;\n",
              "    }\n",
              "  </style>\n",
              "\n",
              "      <script>\n",
              "        const buttonEl =\n",
              "          document.querySelector('#df-0cb9fbe0-638c-4f80-a1b1-143814540b2c button.colab-df-convert');\n",
              "        buttonEl.style.display =\n",
              "          google.colab.kernel.accessAllowed ? 'block' : 'none';\n",
              "\n",
              "        async function convertToInteractive(key) {\n",
              "          const element = document.querySelector('#df-0cb9fbe0-638c-4f80-a1b1-143814540b2c');\n",
              "          const dataTable =\n",
              "            await google.colab.kernel.invokeFunction('convertToInteractive',\n",
              "                                                     [key], {});\n",
              "          if (!dataTable) return;\n",
              "\n",
              "          const docLinkHtml = 'Like what you see? Visit the ' +\n",
              "            '<a target=\"_blank\" href=https://colab.research.google.com/notebooks/data_table.ipynb>data table notebook</a>'\n",
              "            + ' to learn more about interactive tables.';\n",
              "          element.innerHTML = '';\n",
              "          dataTable['output_type'] = 'display_data';\n",
              "          await google.colab.output.renderOutput(dataTable, element);\n",
              "          const docLink = document.createElement('div');\n",
              "          docLink.innerHTML = docLinkHtml;\n",
              "          element.appendChild(docLink);\n",
              "        }\n",
              "      </script>\n",
              "    </div>\n",
              "  </div>\n",
              "  "
            ]
          },
          "metadata": {},
          "execution_count": 5
        }
      ]
    },
    {
      "cell_type": "markdown",
      "source": [
        "## transformar os dados em categoria e classificar e um gráfico onde mostre os itens de caderno de provas por cores e quais os mais ultilizados"
      ],
      "metadata": {
        "id": "zZSWILqXmdks"
      }
    },
    {
      "cell_type": "code",
      "source": [
        "microdados.info()"
      ],
      "metadata": {
        "id": "jQIP50n1OMni",
        "colab": {
          "base_uri": "https://localhost:8080/"
        },
        "outputId": "f316b9b5-28c6-4bfc-cbed-48d6a77538ba"
      },
      "execution_count": null,
      "outputs": [
        {
          "output_type": "stream",
          "name": "stdout",
          "text": [
            "<class 'pandas.core.frame.DataFrame'>\n",
            "RangeIndex: 4415 entries, 0 to 4414\n",
            "Data columns (total 1 columns):\n",
            " #   Column                                                                                                                                                                          Non-Null Count  Dtype \n",
            "---  ------                                                                                                                                                                          --------------  ----- \n",
            " 0   CO_POSICAO;SG_AREA;CO_ITEM;TX_GABARITO;CO_HABILIDADE;IN_ITEM_ABAN;TX_MOTIVO_ABAN;NU_PARAM_A;NU_PARAM_B;NU_PARAM_C;TX_COR;CO_PROVA;TP_LINGUA;IN_ITEM_ADAPTADO;TP_VERSAO_DIGITAL  4415 non-null   object\n",
            "dtypes: object(1)\n",
            "memory usage: 34.6+ KB\n"
          ]
        }
      ]
    },
    {
      "cell_type": "markdown",
      "source": [
        "Criar outra tabela e com um gráfico de Histograma que mostre os itens das provas mais ultilizados no enem."
      ],
      "metadata": {
        "id": "dzeCXw6RtfvD"
      }
    },
    {
      "cell_type": "markdown",
      "source": [
        "### O trabalho tem que ser entregue se quiser em dupla"
      ],
      "metadata": {
        "id": "R3zEEIDxcCLS"
      }
    },
    {
      "cell_type": "code",
      "source": [
        "## código aqui junto com o gráfico histograma."
      ],
      "metadata": {
        "id": "hvzWlQQUUVsm"
      },
      "execution_count": null,
      "outputs": []
    },
    {
      "cell_type": "code",
      "source": [
        ""
      ],
      "metadata": {
        "id": "V9Z-BSi9u38F"
      },
      "execution_count": null,
      "outputs": []
    }
  ]
}